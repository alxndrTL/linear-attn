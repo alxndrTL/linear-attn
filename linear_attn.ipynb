{
 "cells": [
  {
   "cell_type": "code",
   "execution_count": 194,
   "metadata": {},
   "outputs": [],
   "source": [
    "import torch\n",
    "from fla.ops.linear_attn.naive import naive_chunk_linear_attn as fla_chunkwise_attn"
   ]
  },
  {
   "cell_type": "code",
   "execution_count": null,
   "metadata": {},
   "outputs": [],
   "source": [
    "B = 8\n",
    "L = 256\n",
    "d = 128\n",
    "\n",
    "def chunkwise_attn(Q, K, V):\n",
    "    # Q, K, V : (B, L, d)\n",
    "\n",
    "    chunk_size = 16\n",
    "    assert L%chunk_size==0\n",
    "    n = L//chunk_size\n",
    "\n",
    "    S_prev = torch.zeros(B, d, d)\n",
    "    Q = Q.view(B, n, chunk_size, d)\n",
    "    K = K.view(B, n, chunk_size, d)\n",
    "    V = V.view(B, n, chunk_size, d)\n",
    "    O = torch.zeros(B, n, chunk_size, d)\n",
    "    \n",
    "    for c in range(n):\n",
    "        O[:, c] = Q[:, c] @ S_prev + torch.tril(Q[:, c] @ K[:, c].transpose(1, 2)) @ V[:, c]\n",
    "        S_prev = S_prev + K[:, c].transpose(1, 2) @ V[:, c]\n",
    "\n",
    "    O = O.view(B, L, d)\n",
    "    return O\n",
    "\n",
    "def recurrent_attn(Q, K, V):\n",
    "    # Q, K, V : (B, L, d)\n",
    "\n",
    "    S = torch.zeros(B, d, d)\n",
    "    O = torch.zeros(B, L, d)\n",
    "\n",
    "    for t in range(L):\n",
    "        S = S + K[:, [t]].transpose(1, 2) @ V[:, [t]]\n",
    "        O[:, [t]] = Q[:, [t]] @ S\n",
    "        \n",
    "    return O"
   ]
  },
  {
   "cell_type": "code",
   "execution_count": 196,
   "metadata": {},
   "outputs": [],
   "source": [
    "Q, K, V = torch.randn(B, L, d), torch.randn(B, L, d), torch.randn(B, L, d)"
   ]
  },
  {
   "cell_type": "code",
   "execution_count": null,
   "metadata": {},
   "outputs": [],
   "source": [
    "own_res = chunkwise_attn(Q, K, V)\n",
    "own_recc_res = recurrent_attn(Q, K, V)\n",
    "fla_res = fla_chunkwise_attn(Q.unsqueeze(1), K.unsqueeze(1), V.unsqueeze(1), scale=1).squeeze(1)"
   ]
  },
  {
   "cell_type": "code",
   "execution_count": 198,
   "metadata": {},
   "outputs": [
    {
     "data": {
      "text/plain": [
       "True"
      ]
     },
     "execution_count": 198,
     "metadata": {},
     "output_type": "execute_result"
    }
   ],
   "source": [
    "torch.allclose(own_res, fla_res, atol=0.001)"
   ]
  },
  {
   "cell_type": "code",
   "execution_count": 199,
   "metadata": {},
   "outputs": [
    {
     "data": {
      "text/plain": [
       "True"
      ]
     },
     "execution_count": 199,
     "metadata": {},
     "output_type": "execute_result"
    }
   ],
   "source": [
    "torch.allclose(own_recc_res, fla_res, atol=0.001)"
   ]
  },
  {
   "cell_type": "code",
   "execution_count": 201,
   "metadata": {},
   "outputs": [],
   "source": [
    "a,b,c = Q.size()"
   ]
  },
  {
   "cell_type": "code",
   "execution_count": 206,
   "metadata": {},
   "outputs": [
    {
     "data": {
      "text/plain": [
       "6"
      ]
     },
     "execution_count": 206,
     "metadata": {},
     "output_type": "execute_result"
    }
   ],
   "source": [
    "(lambda x:2*x)(3)"
   ]
  },
  {
   "cell_type": "code",
   "execution_count": null,
   "metadata": {},
   "outputs": [],
   "source": []
  }
 ],
 "metadata": {
  "kernelspec": {
   "display_name": "env",
   "language": "python",
   "name": "python3"
  },
  "language_info": {
   "codemirror_mode": {
    "name": "ipython",
    "version": 3
   },
   "file_extension": ".py",
   "mimetype": "text/x-python",
   "name": "python",
   "nbconvert_exporter": "python",
   "pygments_lexer": "ipython3",
   "version": "3.7.6"
  }
 },
 "nbformat": 4,
 "nbformat_minor": 2
}
