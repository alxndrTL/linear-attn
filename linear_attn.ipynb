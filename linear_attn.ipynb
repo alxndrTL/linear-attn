{
 "cells": [
  {
   "cell_type": "code",
   "execution_count": 5,
   "metadata": {},
   "outputs": [],
   "source": [
    "import torch\n",
    "from fla.ops.linear_attn.naive import naive_chunk_linear_attn as fla_chunk_attn"
   ]
  },
  {
   "cell_type": "code",
   "execution_count": 90,
   "metadata": {},
   "outputs": [],
   "source": [
    "B = 8\n",
    "L = 256\n",
    "d = 128\n",
    "\n",
    "def chunk_attn(S_prev, Q, K, V):\n",
    "    # Q, K, V : (B, C, d)\n",
    "    O_intra = torch.tril(Q @ K.transpose(1, 2)) @ V\n",
    "    O_inter = Q @ S_prev\n",
    "    O = O_inter + O_intra\n",
    "    return O\n",
    "\n",
    "def attn(Q, K, V):\n",
    "    chunk_size = 16\n",
    "    assert L%chunk_size==0\n",
    "    n = L//chunk_size\n",
    "\n",
    "    S_prev = torch.zeros(B, d, d)\n",
    "    Q = Q.view(B, n, chunk_size, d)\n",
    "    K = K.view(B, n, chunk_size, d)\n",
    "    V = V.view(B, n, chunk_size, d)\n",
    "    O = torch.zeros(B, n, chunk_size, d)\n",
    "    \n",
    "    for c in range(n):\n",
    "        O[:, c] = chunk_attn(S_prev, Q[:, c], K[:, c], V[:, c])\n",
    "        S_prev = S_prev + K[:, c].transpose(1, 2) @ V[:, c]\n",
    "\n",
    "    O = O.view(B, L, d)\n",
    "    return O"
   ]
  },
  {
   "cell_type": "code",
   "execution_count": 91,
   "metadata": {},
   "outputs": [],
   "source": [
    "Q, K, V = torch.randn(B, L, d), torch.randn(B, L, d), torch.randn(B, L, d)"
   ]
  },
  {
   "cell_type": "code",
   "execution_count": 92,
   "metadata": {},
   "outputs": [],
   "source": [
    "own_res = attn(Q, K, V)\n",
    "fla_res = fla_chunk_attn(Q.unsqueeze(1), K.unsqueeze(1), V.unsqueeze(1), scale=1).squeeze(1)"
   ]
  },
  {
   "cell_type": "code",
   "execution_count": 94,
   "metadata": {},
   "outputs": [
    {
     "data": {
      "text/plain": [
       "True"
      ]
     },
     "execution_count": 94,
     "metadata": {},
     "output_type": "execute_result"
    }
   ],
   "source": [
    "torch.allclose(own_res, fla_res, atol=0.01)"
   ]
  },
  {
   "cell_type": "code",
   "execution_count": 99,
   "metadata": {},
   "outputs": [
    {
     "data": {
      "text/plain": [
       "tensor(4.2725e-08)"
      ]
     },
     "execution_count": 99,
     "metadata": {},
     "output_type": "execute_result"
    }
   ],
   "source": [
    "torch.mean(own_res-fla_res)"
   ]
  },
  {
   "cell_type": "code",
   "execution_count": null,
   "metadata": {},
   "outputs": [],
   "source": []
  }
 ],
 "metadata": {
  "kernelspec": {
   "display_name": "env",
   "language": "python",
   "name": "python3"
  },
  "language_info": {
   "codemirror_mode": {
    "name": "ipython",
    "version": 3
   },
   "file_extension": ".py",
   "mimetype": "text/x-python",
   "name": "python",
   "nbconvert_exporter": "python",
   "pygments_lexer": "ipython3",
   "version": "3.7.6"
  }
 },
 "nbformat": 4,
 "nbformat_minor": 2
}
