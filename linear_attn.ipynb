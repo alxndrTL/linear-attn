{
 "cells": [
  {
   "cell_type": "code",
   "execution_count": 1,
   "metadata": {},
   "outputs": [],
   "source": [
    "import torch"
   ]
  },
  {
   "cell_type": "code",
   "execution_count": 29,
   "metadata": {},
   "outputs": [],
   "source": [
    "L = 64\n",
    "d = 128\n",
    "\n",
    "def chunk_attn(S_prev, Q, K, V):\n",
    "    O_intra = torch.tril(Q @ K.T) @ V\n",
    "    O_inter = Q @ S_prev\n",
    "    O = O_inter + O_intra\n",
    "    return O\n",
    "\n",
    "def attn(Q, K, V):\n",
    "    chunk_size = 16\n",
    "    assert L%chunk_size==0\n",
    "    n = L//chunk_size\n",
    "\n",
    "    S_prev = torch.zeros(d, d)\n",
    "    Q = Q.view(n, chunk_size, d)\n",
    "    K = K.view(n, chunk_size, d)\n",
    "    V = V.view(n, chunk_size, d)\n",
    "    O = torch.zeros(n, chunk_size, d)\n",
    "    \n",
    "    for c in range(n):\n",
    "        O[c] = chunk_attn(S_prev, Q[c], K[c], V[c])\n",
    "        S_prev = S_prev + K[c].T @ V[c]\n",
    "\n",
    "    O = O.view(L, d)\n",
    "    return O"
   ]
  },
  {
   "cell_type": "code",
   "execution_count": 30,
   "metadata": {},
   "outputs": [],
   "source": [
    "Q, K, V = torch.randn(L, d), torch.randn(L, d), torch.randn(L, d)"
   ]
  },
  {
   "cell_type": "code",
   "execution_count": 31,
   "metadata": {},
   "outputs": [
    {
     "data": {
      "text/plain": [
       "torch.Size([64, 128])"
      ]
     },
     "execution_count": 31,
     "metadata": {},
     "output_type": "execute_result"
    }
   ],
   "source": [
    "attn(Q, K, V).shape"
   ]
  },
  {
   "cell_type": "code",
   "execution_count": null,
   "metadata": {},
   "outputs": [],
   "source": []
  },
  {
   "cell_type": "code",
   "execution_count": null,
   "metadata": {},
   "outputs": [],
   "source": []
  }
 ],
 "metadata": {
  "kernelspec": {
   "display_name": "torch23",
   "language": "python",
   "name": "python3"
  },
  "language_info": {
   "codemirror_mode": {
    "name": "ipython",
    "version": 3
   },
   "file_extension": ".py",
   "mimetype": "text/x-python",
   "name": "python",
   "nbconvert_exporter": "python",
   "pygments_lexer": "ipython3",
   "version": "3.12.2"
  }
 },
 "nbformat": 4,
 "nbformat_minor": 2
}
